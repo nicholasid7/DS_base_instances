{
 "cells": [
  {
   "cell_type": "code",
   "execution_count": 3,
   "metadata": {},
   "outputs": [],
   "source": [
    "import numpy as np\n",
    "import pandas as pd\n",
    "import matplotlib as mpl\n",
    "import matplotlib.pyplot as plt\n",
    "\n",
    "import time as t\n",
    "from tqdm import trange\n",
    "\n",
    "from pandas import DataFrame\n",
    "from sklearn.neighbors import KNeighborsRegressor\n",
    "from sklearn.linear_model import LinearRegression, LogisticRegression\n",
    "from sklearn.svm import SVR\n",
    "from sklearn.ensemble import RandomForestRegressor\n",
    "from sklearn.metrics import r2_score\n",
    "from sklearn.model_selection import train_test_split\n",
    "\n",
    "import sklearn.metrics as mt\n",
    "from sklearn.metrics import precision_recall_curve, classification_report"
   ]
  },
  {
   "cell_type": "markdown",
   "metadata": {},
   "source": [
    "## I Read DATA from xlsx "
   ]
  },
  {
   "cell_type": "code",
   "execution_count": 8,
   "metadata": {},
   "outputs": [
    {
     "name": "stdout",
     "output_type": "stream",
     "text": [
      "Index(['Индекс', 'Номер партии', 'Номер партии_АСУТП', 'Номер плавки',\n",
      "       'Номер рулона', 'Длина_1', 'Длина_2', 'Длина_3', 'Длина_4', 'Длина_5',\n",
      "       ...\n",
      "       'Водород_среднее', 'CO2_Этап2_зона5', 'H2_Этап2_зона5',\n",
      "       'Точка_росы_Этап1_зона1', 'Точка_росы_Этап1_зона2', 'CO_Этап1_зона1',\n",
      "       'CO_Этап1_зона2', 'H2_Этап1', 'CO2_Этап2_зона1', 'CO2_Этап2_зона3'],\n",
      "      dtype='object', length=120)\n"
     ]
    }
   ],
   "source": [
    "# read XLS Pandas - загрузка данных из исходного файла.\n",
    "dataset = pd.read_excel('Dataset.xlsx', sheet_name='Исходные данные');\n",
    "dataset.head()\n",
    "# Осуществлен переход к следующему обозначению факторов модели плавки:\n",
    "# Xi - факторы модели (процесса)\n",
    "\n",
    "# Y - результирующий признак dataset['Удельные_потери'] \n",
    "print(dataset.columns)"
   ]
  },
  {
   "cell_type": "code",
   "execution_count": 13,
   "metadata": {},
   "outputs": [
    {
     "data": {
      "text/plain": [
       "0    1.072\n",
       "1    1.087\n",
       "2    1.070\n",
       "3    1.075\n",
       "4    1.064\n",
       "Name: Удельные_потери, dtype: float64"
      ]
     },
     "execution_count": 13,
     "metadata": {},
     "output_type": "execute_result"
    }
   ],
   "source": [
    "# Размер\n",
    "dataset.shape[0]\n",
    "dataset['Удельные_потери'].head()"
   ]
  },
  {
   "cell_type": "markdown",
   "metadata": {},
   "source": [
    "## II Инициализация данных + первичная обработка / фильтрация"
   ]
  },
  {
   "cell_type": "code",
   "execution_count": 16,
   "metadata": {},
   "outputs": [
    {
     "data": {
      "text/html": [
       "<div>\n",
       "<style scoped>\n",
       "    .dataframe tbody tr th:only-of-type {\n",
       "        vertical-align: middle;\n",
       "    }\n",
       "\n",
       "    .dataframe tbody tr th {\n",
       "        vertical-align: top;\n",
       "    }\n",
       "\n",
       "    .dataframe thead th {\n",
       "        text-align: right;\n",
       "    }\n",
       "</style>\n",
       "<table border=\"1\" class=\"dataframe\">\n",
       "  <thead>\n",
       "    <tr style=\"text-align: right;\">\n",
       "      <th></th>\n",
       "      <th>Индекс</th>\n",
       "      <th>Номер партии</th>\n",
       "      <th>Номер партии_АСУТП</th>\n",
       "      <th>Номер плавки</th>\n",
       "      <th>Номер рулона</th>\n",
       "      <th>Длина_1</th>\n",
       "      <th>Длина_2</th>\n",
       "      <th>Длина_3</th>\n",
       "      <th>Длина_4</th>\n",
       "      <th>Длина_5</th>\n",
       "      <th>...</th>\n",
       "      <th>Водород_среднее</th>\n",
       "      <th>CO2_Этап2_зона5</th>\n",
       "      <th>H2_Этап2_зона5</th>\n",
       "      <th>Точка_росы_Этап1_зона1</th>\n",
       "      <th>Точка_росы_Этап1_зона2</th>\n",
       "      <th>CO_Этап1_зона1</th>\n",
       "      <th>CO_Этап1_зона2</th>\n",
       "      <th>H2_Этап1</th>\n",
       "      <th>CO2_Этап2_зона1</th>\n",
       "      <th>CO2_Этап2_зона3</th>\n",
       "    </tr>\n",
       "  </thead>\n",
       "  <tbody>\n",
       "    <tr>\n",
       "      <th>0</th>\n",
       "      <td>0</td>\n",
       "      <td>522350</td>\n",
       "      <td>580797</td>\n",
       "      <td>1717428</td>\n",
       "      <td>70</td>\n",
       "      <td>23.28</td>\n",
       "      <td>2214.0</td>\n",
       "      <td>55.600000</td>\n",
       "      <td>5111.880000</td>\n",
       "      <td>121.760000</td>\n",
       "      <td>...</td>\n",
       "      <td>1.7</td>\n",
       "      <td>1.22</td>\n",
       "      <td>69.7</td>\n",
       "      <td>NaN</td>\n",
       "      <td>63.680000</td>\n",
       "      <td>NaN</td>\n",
       "      <td>1.6</td>\n",
       "      <td>69.75</td>\n",
       "      <td>0.1</td>\n",
       "      <td>0.06</td>\n",
       "    </tr>\n",
       "    <tr>\n",
       "      <th>1</th>\n",
       "      <td>1</td>\n",
       "      <td>522350</td>\n",
       "      <td>580797</td>\n",
       "      <td>1717428</td>\n",
       "      <td>70</td>\n",
       "      <td>25.22</td>\n",
       "      <td>2211.0</td>\n",
       "      <td>60.233333</td>\n",
       "      <td>5104.953333</td>\n",
       "      <td>131.906667</td>\n",
       "      <td>...</td>\n",
       "      <td>1.9</td>\n",
       "      <td>1.22</td>\n",
       "      <td>70.8</td>\n",
       "      <td>NaN</td>\n",
       "      <td>63.680000</td>\n",
       "      <td>NaN</td>\n",
       "      <td>1.6</td>\n",
       "      <td>69.75</td>\n",
       "      <td>0.1</td>\n",
       "      <td>0.06</td>\n",
       "    </tr>\n",
       "    <tr>\n",
       "      <th>2</th>\n",
       "      <td>2</td>\n",
       "      <td>522350</td>\n",
       "      <td>580797</td>\n",
       "      <td>1717428</td>\n",
       "      <td>70</td>\n",
       "      <td>27.16</td>\n",
       "      <td>2208.0</td>\n",
       "      <td>64.866667</td>\n",
       "      <td>5098.026667</td>\n",
       "      <td>142.053333</td>\n",
       "      <td>...</td>\n",
       "      <td>2.2</td>\n",
       "      <td>1.25</td>\n",
       "      <td>69.9</td>\n",
       "      <td>NaN</td>\n",
       "      <td>63.678693</td>\n",
       "      <td>NaN</td>\n",
       "      <td>1.6</td>\n",
       "      <td>69.75</td>\n",
       "      <td>0.1</td>\n",
       "      <td>0.06</td>\n",
       "    </tr>\n",
       "    <tr>\n",
       "      <th>3</th>\n",
       "      <td>3</td>\n",
       "      <td>522350</td>\n",
       "      <td>580797</td>\n",
       "      <td>1717428</td>\n",
       "      <td>70</td>\n",
       "      <td>29.10</td>\n",
       "      <td>2205.0</td>\n",
       "      <td>69.500000</td>\n",
       "      <td>5091.100000</td>\n",
       "      <td>152.200000</td>\n",
       "      <td>...</td>\n",
       "      <td>1.5</td>\n",
       "      <td>2.81</td>\n",
       "      <td>69.1</td>\n",
       "      <td>NaN</td>\n",
       "      <td>63.668600</td>\n",
       "      <td>NaN</td>\n",
       "      <td>1.6</td>\n",
       "      <td>69.75</td>\n",
       "      <td>0.1</td>\n",
       "      <td>0.06</td>\n",
       "    </tr>\n",
       "    <tr>\n",
       "      <th>4</th>\n",
       "      <td>4</td>\n",
       "      <td>522350</td>\n",
       "      <td>580797</td>\n",
       "      <td>1717428</td>\n",
       "      <td>70</td>\n",
       "      <td>31.04</td>\n",
       "      <td>2202.0</td>\n",
       "      <td>74.133333</td>\n",
       "      <td>5084.173333</td>\n",
       "      <td>162.346667</td>\n",
       "      <td>...</td>\n",
       "      <td>1.2</td>\n",
       "      <td>1.49</td>\n",
       "      <td>71.9</td>\n",
       "      <td>NaN</td>\n",
       "      <td>63.658507</td>\n",
       "      <td>NaN</td>\n",
       "      <td>1.6</td>\n",
       "      <td>69.75</td>\n",
       "      <td>0.1</td>\n",
       "      <td>0.06</td>\n",
       "    </tr>\n",
       "  </tbody>\n",
       "</table>\n",
       "<p>5 rows × 119 columns</p>\n",
       "</div>"
      ],
      "text/plain": [
       "   Индекс  Номер партии  Номер партии_АСУТП  Номер плавки  Номер рулона  \\\n",
       "0       0        522350              580797       1717428            70   \n",
       "1       1        522350              580797       1717428            70   \n",
       "2       2        522350              580797       1717428            70   \n",
       "3       3        522350              580797       1717428            70   \n",
       "4       4        522350              580797       1717428            70   \n",
       "\n",
       "   Длина_1  Длина_2    Длина_3      Длина_4     Длина_5  ...  Водород_среднее  \\\n",
       "0    23.28   2214.0  55.600000  5111.880000  121.760000  ...              1.7   \n",
       "1    25.22   2211.0  60.233333  5104.953333  131.906667  ...              1.9   \n",
       "2    27.16   2208.0  64.866667  5098.026667  142.053333  ...              2.2   \n",
       "3    29.10   2205.0  69.500000  5091.100000  152.200000  ...              1.5   \n",
       "4    31.04   2202.0  74.133333  5084.173333  162.346667  ...              1.2   \n",
       "\n",
       "   CO2_Этап2_зона5  H2_Этап2_зона5  Точка_росы_Этап1_зона1  \\\n",
       "0             1.22            69.7                     NaN   \n",
       "1             1.22            70.8                     NaN   \n",
       "2             1.25            69.9                     NaN   \n",
       "3             2.81            69.1                     NaN   \n",
       "4             1.49            71.9                     NaN   \n",
       "\n",
       "   Точка_росы_Этап1_зона2  CO_Этап1_зона1  CO_Этап1_зона2  H2_Этап1  \\\n",
       "0               63.680000             NaN             1.6     69.75   \n",
       "1               63.680000             NaN             1.6     69.75   \n",
       "2               63.678693             NaN             1.6     69.75   \n",
       "3               63.668600             NaN             1.6     69.75   \n",
       "4               63.658507             NaN             1.6     69.75   \n",
       "\n",
       "   CO2_Этап2_зона1  CO2_Этап2_зона3  \n",
       "0              0.1             0.06  \n",
       "1              0.1             0.06  \n",
       "2              0.1             0.06  \n",
       "3              0.1             0.06  \n",
       "4              0.1             0.06  \n",
       "\n",
       "[5 rows x 119 columns]"
      ]
     },
     "execution_count": 16,
     "metadata": {},
     "output_type": "execute_result"
    }
   ],
   "source": [
    "# Исходный датафрейм факторов (параметров) модели\n",
    "X0 = dataset.drop(['Удельные_потери'], axis=1) # все параметры за исключением результирующего\n",
    "X0.head()"
   ]
  },
  {
   "cell_type": "markdown",
   "metadata": {},
   "source": [
    "### Особенности в данных "
   ]
  },
  {
   "cell_type": "code",
   "execution_count": 31,
   "metadata": {},
   "outputs": [
    {
     "data": {
      "text/plain": [
       "0                тренд 2,3\n",
       "1                тренд 2,3\n",
       "2                тренд 2,3\n",
       "3                тренд 2,3\n",
       "4                тренд 2,3\n",
       "               ...        \n",
       "12786    тредн2,3112691771\n",
       "12787    тредн2,3084518828\n",
       "12788    тредн2,3056345886\n",
       "12789    тредн2,3028172943\n",
       "12790             тредн2,3\n",
       "Name: Толщина_перед_смоткой, Length: 12791, dtype: object"
      ]
     },
     "execution_count": 31,
     "metadata": {},
     "output_type": "execute_result"
    }
   ],
   "source": [
    "# 1) Неполнота данных присутствует по следующим факторам\n",
    "# (частичное или полное отсутсие данных)\n",
    "X0['Поступление_в_технологическую_секцию']\n",
    "X0['Выезд_из_технологической_секции']\n",
    "\n",
    "X0['Начало непрерывного отжига']\n",
    "X0['Окончание непрерывного отжига']\n",
    "\n",
    "X0['Точка_росы_Этап1_зона1']\n",
    "X0['Точка_росы_Этап1_зона2']\n",
    "\n",
    "X0['CO_Этап1_зона1']\n",
    "\n",
    "# 2) Все множество факторов имеет как количественное, так и качественное содержание\n",
    "# 2.1) Качественные признаки\n",
    "X0['ШОС']\n",
    "\n",
    "# условно качественный может: быть преобразован в количественный или использоваться как класс\n",
    "# качественного признака\n",
    "X0['Толщина_перед_смоткой']"
   ]
  },
  {
   "cell_type": "code",
   "execution_count": 32,
   "metadata": {},
   "outputs": [
    {
     "data": {
      "text/html": [
       "<div>\n",
       "<style scoped>\n",
       "    .dataframe tbody tr th:only-of-type {\n",
       "        vertical-align: middle;\n",
       "    }\n",
       "\n",
       "    .dataframe tbody tr th {\n",
       "        vertical-align: top;\n",
       "    }\n",
       "\n",
       "    .dataframe thead th {\n",
       "        text-align: right;\n",
       "    }\n",
       "</style>\n",
       "<table border=\"1\" class=\"dataframe\">\n",
       "  <thead>\n",
       "    <tr style=\"text-align: right;\">\n",
       "      <th></th>\n",
       "      <th>Удельные_потери</th>\n",
       "    </tr>\n",
       "  </thead>\n",
       "  <tbody>\n",
       "    <tr>\n",
       "      <th>0</th>\n",
       "      <td>1.072</td>\n",
       "    </tr>\n",
       "    <tr>\n",
       "      <th>1</th>\n",
       "      <td>1.087</td>\n",
       "    </tr>\n",
       "    <tr>\n",
       "      <th>2</th>\n",
       "      <td>1.070</td>\n",
       "    </tr>\n",
       "    <tr>\n",
       "      <th>3</th>\n",
       "      <td>1.075</td>\n",
       "    </tr>\n",
       "    <tr>\n",
       "      <th>4</th>\n",
       "      <td>1.064</td>\n",
       "    </tr>\n",
       "  </tbody>\n",
       "</table>\n",
       "</div>"
      ],
      "text/plain": [
       "   Удельные_потери\n",
       "0            1.072\n",
       "1            1.087\n",
       "2            1.070\n",
       "3            1.075\n",
       "4            1.064"
      ]
     },
     "execution_count": 32,
     "metadata": {},
     "output_type": "execute_result"
    }
   ],
   "source": [
    "# Результирующий датафрейм выходного параметра модели - 'Удельные_потери'\n",
    "Y0 = dataset[['Удельные_потери']]\n",
    "Y0.head()"
   ]
  },
  {
   "cell_type": "code",
   "execution_count": 333,
   "metadata": {},
   "outputs": [],
   "source": [
    "# Первичная обработка данных (duplicates, null, not a number)\n",
    "class FLTR:\n",
    "    def __init__(self, mDupl, mNull, mNan, \n",
    "                       dfDupl_X0, dfNull_X0, dfNan_X0,\n",
    "                       dfDupl_Y0, dfNull_Y0, dfNan_Y0,\n",
    "                ):\n",
    "        self.ObjDupl = mDupl\n",
    "        self.ObjNull = mNull\n",
    "        self.ObjNan = mNan\n",
    "        self.Dupl_X0 = dfDupl_X0\n",
    "        self.Null_X0 = dfNull_X0\n",
    "        self.Nan_X0 = dfNan_X0\n",
    "        self.Dupl_Y0 = dfDupl_Y0\n",
    "        self.Null_Y0 = dfNull_Y0\n",
    "        self.Nan_Y0 = dfNan_Y0"
   ]
  },
  {
   "cell_type": "code",
   "execution_count": 378,
   "metadata": {},
   "outputs": [],
   "source": [
    "# Функция проверки датасетов на дубликаты, пустые и нечисловые строки, а также их чистка (при наличии)\n",
    "def clrDataSet(D):\n",
    "    \n",
    "    # Словарь рез-ов\n",
    "    mDict = {\n",
    "        1: 'No duplicates',\n",
    "        2: 'Duplicates deleted',\n",
    "        3: 'No Null',\n",
    "        4: 'Nulls deleted',\n",
    "        5: 'No NaN',\n",
    "        6: 'NaNs deleted'\n",
    "    }\n",
    "    \n",
    "    D_dup = D.drop_duplicates() # исключение дубликатов\n",
    "    D_null = D_dup.dropna(axis=1).dropna() # исключаем пустые поля (неполноу факторов) и пусты строки\n",
    "   \n",
    "    # исключение нечисловых строк\n",
    "    num_df = (D.drop((D.columns[1:]), axis=1)\n",
    "              .join(D_null[D_null.columns[1:]].apply(pd.to_numeric, errors='coerce')))\n",
    "#     D_nan = num_df[D[D.columns[1:]].notnull().all(axis=1)]\n",
    "    D_nan = num_df[num_df.notnull().values.any(axis=1)]\n",
    "    \n",
    "    if (D_dup.shape[0] == D.shape[0]):  # сравнение кол-ва строк исх. и очищенного датафрейма\n",
    "        dp = 1\n",
    "        mDupl = mDict[dp]\n",
    "        dfDupl_X0 = None\n",
    "        dfDupl_Y0 = None\n",
    "    else:\n",
    "        dp = 2\n",
    "        # Переопределение факторов с учетом чистки\n",
    "        X0 = D_dup.drop(D.columns[104:105], axis=1)\n",
    "        Y0 = pd.DataFrame(D_dup['Удельные_потери'])\n",
    "        mDupl = mDict[dp]\n",
    "        dfDupl_X0 = X0[X0.columns[1:]]\n",
    "        dfDupl_Y0 = Y0\n",
    "        \n",
    "    if (D_null.shape[0] == D.shape[0])&(D_null.shape[1] == D.shape[1]):\n",
    "        dp = 3\n",
    "        mNull = mDict[dp]\n",
    "        dfNull_X0 = None\n",
    "        dfNull_Y0 = None\n",
    "    else:\n",
    "        dp = 4\n",
    "        # Переопределение факторов с учетом чистки\n",
    "        X0 = D_null.drop(D.columns[104:105], axis=1)  \n",
    "        Y0 = pd.DataFrame(D_null['Удельные_потери'])\n",
    "        mNull = mDict[dp]\n",
    "        dfNull_X0 = X0[X0.columns[1:]]\n",
    "        dfNull_Y0 = Y0\n",
    "    \n",
    "    if (D_nan.shape[0] == D.shape[0])&(D_nan.shape[1] == D.shape[1]):\n",
    "        dp = 5\n",
    "        mNan = mDict[dp]\n",
    "        dfNan_X0 = None\n",
    "        dfNan_Y0 = None\n",
    "    else:\n",
    "        dp = 6\n",
    "        # Переопределение факторов с учетом чистки\n",
    "        X0 = D_nan.drop(D.columns[104:105], axis=1)\n",
    "        Y0 = pd.DataFrame(D_nan['Удельные_потери'])\n",
    "        mNan = mDict[dp]\n",
    "        dfNan_X0 = X0[X0.columns[1:]]\n",
    "        dfNan_Y0 = Y0\n",
    "    \n",
    "    return FLTR(mDupl, mNull, mNan, dfDupl_X0, dfNull_X0, dfNan_X0, dfDupl_Y0, dfNull_Y0, dfNan_Y0)"
   ]
  },
  {
   "cell_type": "code",
   "execution_count": 380,
   "metadata": {},
   "outputs": [],
   "source": [
    "# Экземпляр объекта по очистке данных на предмет Dupl, Null, Nan\n",
    "fltrObject = clrDataSet(dataset)"
   ]
  },
  {
   "cell_type": "code",
   "execution_count": 603,
   "metadata": {},
   "outputs": [
    {
     "data": {
      "text/plain": [
       "('No duplicates', 'Nulls deleted', 'NaNs deleted')"
      ]
     },
     "execution_count": 603,
     "metadata": {},
     "output_type": "execute_result"
    }
   ],
   "source": [
    "# Чистка данных\n",
    "# ПРИМЕЧАНИЕ: для повышения достоверности и точности результатов моделирования необходимо в алгоритмах \n",
    "# также использовать различные методы интерполяции для критичных точек анализа, методы оценки однородности выборок \n",
    "# (исключение выборосов) и др.\n",
    "fltrObject.ObjDupl, fltrObject.ObjNull, fltrObject.ObjNan"
   ]
  },
  {
   "cell_type": "code",
   "execution_count": 606,
   "metadata": {},
   "outputs": [
    {
     "data": {
      "text/plain": [
       "(None, None)"
      ]
     },
     "execution_count": 606,
     "metadata": {},
     "output_type": "execute_result"
    }
   ],
   "source": [
    "fltrObject.Dupl_X0, fltrObject.Dupl_Y0 # чистка дублей (они отсутствуют)"
   ]
  },
  {
   "cell_type": "code",
   "execution_count": 600,
   "metadata": {},
   "outputs": [
    {
     "data": {
      "text/plain": [
       "((12791, 110), (12791, 1), (12791, 110), (12791, 1))"
      ]
     },
     "execution_count": 600,
     "metadata": {},
     "output_type": "execute_result"
    }
   ],
   "source": [
    "fltrObject.Null_X0.shape, fltrObject.Null_Y0.shape,\\\n",
    "fltrObject.Nan_X0.shape, fltrObject.Nan_Y0.shape,\n",
    "# fltrObject.Nan_Y0"
   ]
  },
  {
   "cell_type": "markdown",
   "metadata": {},
   "source": [
    "## III Корреляция факторов модели "
   ]
  },
  {
   "cell_type": "code",
   "execution_count": 599,
   "metadata": {},
   "outputs": [
    {
     "data": {
      "text/html": [
       "<div>\n",
       "<style scoped>\n",
       "    .dataframe tbody tr th:only-of-type {\n",
       "        vertical-align: middle;\n",
       "    }\n",
       "\n",
       "    .dataframe tbody tr th {\n",
       "        vertical-align: top;\n",
       "    }\n",
       "\n",
       "    .dataframe thead th {\n",
       "        text-align: right;\n",
       "    }\n",
       "</style>\n",
       "<table border=\"1\" class=\"dataframe\">\n",
       "  <thead>\n",
       "    <tr style=\"text-align: right;\">\n",
       "      <th></th>\n",
       "      <th>Удельные_потери</th>\n",
       "    </tr>\n",
       "  </thead>\n",
       "  <tbody>\n",
       "    <tr>\n",
       "      <th>Удельные_потери</th>\n",
       "      <td>1.000000</td>\n",
       "    </tr>\n",
       "    <tr>\n",
       "      <th>Средние_магнитные_потери</th>\n",
       "      <td>0.797610</td>\n",
       "    </tr>\n",
       "    <tr>\n",
       "      <th>F</th>\n",
       "      <td>0.488820</td>\n",
       "    </tr>\n",
       "    <tr>\n",
       "      <th>Al</th>\n",
       "      <td>0.472760</td>\n",
       "    </tr>\n",
       "    <tr>\n",
       "      <th>Коэффициент_свойств_стали</th>\n",
       "      <td>0.447074</td>\n",
       "    </tr>\n",
       "    <tr>\n",
       "      <th>Cr</th>\n",
       "      <td>0.386131</td>\n",
       "    </tr>\n",
       "    <tr>\n",
       "      <th>Азот_среднее</th>\n",
       "      <td>0.370441</td>\n",
       "    </tr>\n",
       "    <tr>\n",
       "      <th>Азот_начало</th>\n",
       "      <td>0.274943</td>\n",
       "    </tr>\n",
       "    <tr>\n",
       "      <th>Азот_конец</th>\n",
       "      <td>0.273847</td>\n",
       "    </tr>\n",
       "    <tr>\n",
       "      <th>Толщина_МС</th>\n",
       "      <td>0.260606</td>\n",
       "    </tr>\n",
       "    <tr>\n",
       "      <th>Si</th>\n",
       "      <td>0.221579</td>\n",
       "    </tr>\n",
       "    <tr>\n",
       "      <th>C</th>\n",
       "      <td>0.207444</td>\n",
       "    </tr>\n",
       "    <tr>\n",
       "      <th>Углерод_конец</th>\n",
       "      <td>0.201244</td>\n",
       "    </tr>\n",
       "    <tr>\n",
       "      <th>Углерод_среднее</th>\n",
       "      <td>0.183379</td>\n",
       "    </tr>\n",
       "    <tr>\n",
       "      <th>Sn</th>\n",
       "      <td>0.177957</td>\n",
       "    </tr>\n",
       "    <tr>\n",
       "      <th>Датчик_механических_свойств</th>\n",
       "      <td>0.175156</td>\n",
       "    </tr>\n",
       "    <tr>\n",
       "      <th>Кислород_начало</th>\n",
       "      <td>0.153553</td>\n",
       "    </tr>\n",
       "    <tr>\n",
       "      <th>T_Этап1_зона4</th>\n",
       "      <td>0.148593</td>\n",
       "    </tr>\n",
       "    <tr>\n",
       "      <th>H2_Этап4_зона1</th>\n",
       "      <td>0.146318</td>\n",
       "    </tr>\n",
       "    <tr>\n",
       "      <th>T_Этап1_зона5</th>\n",
       "      <td>0.140490</td>\n",
       "    </tr>\n",
       "  </tbody>\n",
       "</table>\n",
       "</div>"
      ],
      "text/plain": [
       "                             Удельные_потери\n",
       "Удельные_потери                     1.000000\n",
       "Средние_магнитные_потери            0.797610\n",
       "F                                   0.488820\n",
       "Al                                  0.472760\n",
       "Коэффициент_свойств_стали           0.447074\n",
       "Cr                                  0.386131\n",
       "Азот_среднее                        0.370441\n",
       "Азот_начало                         0.274943\n",
       "Азот_конец                          0.273847\n",
       "Толщина_МС                          0.260606\n",
       "Si                                  0.221579\n",
       "C                                   0.207444\n",
       "Углерод_конец                       0.201244\n",
       "Углерод_среднее                     0.183379\n",
       "Sn                                  0.177957\n",
       "Датчик_механических_свойств         0.175156\n",
       "Кислород_начало                     0.153553\n",
       "T_Этап1_зона4                       0.148593\n",
       "H2_Этап4_зона1                      0.146318\n",
       "T_Этап1_зона5                       0.140490"
      ]
     },
     "execution_count": 599,
     "metadata": {},
     "output_type": "execute_result"
    }
   ],
   "source": [
    "# Переопределяем очищенный DF\n",
    "dataset_clr_ = pd.concat([fltrObject.Nan_X0, fltrObject.Nan_Y0], axis=1, ignore_index=True)\n",
    "\n",
    "new_cols = {idx: x for idx, x in enumerate(fltrObject.Nan_X0.columns)}\n",
    "new_cols[dataset_clr_.shape[1]-1] = 'Удельные_потери'\n",
    "dataset_clr = dataset_clr_.rename(columns=new_cols) \n",
    "\n",
    "# Корреляция факторов модели\n",
    "CorrKoef = dataset_clr.corr()\n",
    "CorrKoef_srt = CorrKoef.sort_values(by=['Удельные_потери'], ascending=False)['Удельные_потери']\n",
    "sign_factors_val = pd.DataFrame(CorrKoef_srt[CorrKoef_srt>0.135])\n",
    "sign_factors = pd.DataFrame(CorrKoef_srt[CorrKoef_srt>0.135]).index\n",
    "sign_factors_val"
   ]
  },
  {
   "cell_type": "code",
   "execution_count": 598,
   "metadata": {},
   "outputs": [],
   "source": [
    "# Для увеличения скорости обучения модели с несущественным падением точности можно исключить  \n",
    "# Оставляем по коэф. корр. (>=|0.135|) - топ 20 параметров, которые оказывают влияние на результирующий признак - Y\n",
    "\n",
    "# В итоге следует оставить:\n",
    "# dataset_clr[sign_factors] для X и fltrObject.Nan_Y0 - для Y с поправкой на отсутствие более детальных техн. данных по объекту.\n",
    "\n",
    "# Исходные матрицы для обучения и проверки адекватности рассматриваемого множества  моделей\n",
    "X = dataset_clr[sign_factors] # входные параметры для обучения - Train и теста - Test\n",
    "Y = fltrObject.Nan_Y0 # Целевые выходные значения - purpose - \"Удельные_потери\"\n",
    "# X.head()\n",
    "# Y.head()\n"
   ]
  },
  {
   "cell_type": "markdown",
   "metadata": {},
   "source": [
    "## IV Формирование обучающей и тестовой выборок"
   ]
  },
  {
   "cell_type": "code",
   "execution_count": 515,
   "metadata": {},
   "outputs": [],
   "source": [
    "Xtrn, Xtst, Ytrn, Ytst = train_test_split(X, Y, test_size=0.3)"
   ]
  },
  {
   "cell_type": "code",
   "execution_count": 596,
   "metadata": {},
   "outputs": [
    {
     "data": {
      "text/plain": [
       "((8953, 20), (3838, 20), (8953, 1), (3838, 1))"
      ]
     },
     "execution_count": 596,
     "metadata": {},
     "output_type": "execute_result"
    }
   ],
   "source": [
    "Xtrn.shape, Xtst.shape, Ytrn.shape, Ytst.shape # проверка размерностей Train - Test"
   ]
  },
  {
   "cell_type": "markdown",
   "metadata": {},
   "source": [
    "### V Формирование списка базовых моделей для анализа объекта исследования "
   ]
  },
  {
   "cell_type": "code",
   "execution_count": 597,
   "metadata": {},
   "outputs": [],
   "source": [
    "# ЗАДАНИЕ СПИСКА МОДЕЛЕЙ\n",
    "ModelList = [LinearRegression(), # МНК\n",
    "             KNeighborsRegressor(n_neighbors=6), # метод ближайших соседей\n",
    "             RandomForestRegressor(n_estimators=100, max_features ='sqrt'), # random forest\n",
    "#              LogisticRegression(), # логистич. регр. - для задачи классификации\n",
    "             SVR() # метод опорных векторов (default - ’rbf’)             \n",
    "             ]\n",
    "# В перспективе список моделей должен быть расширен в рамках\n",
    "# единого алгоритма поиска наилучшего решения (по степени сложности и многопараметричности задачи). \n",
    "# Поиск найилучшей модели, необходимо осуществлять также с учетом оптимальной настройки каждой из используемых моделей.\n",
    "# Также необходимо учитывать кодированные значения качественных признаков и физическую модель процесса плавки, \n",
    "# для уточнения (при ее наличии)"
   ]
  },
  {
   "cell_type": "markdown",
   "metadata": {},
   "source": [
    "## VI Процедура выбора модели"
   ]
  },
  {
   "cell_type": "code",
   "execution_count": 517,
   "metadata": {
    "scrolled": true
   },
   "outputs": [
    {
     "name": "stderr",
     "output_type": "stream",
     "text": [
      "100%|████████████████████████████████████████████████████████████████████████████████████| 1/1 [00:00<00:00,  5.38it/s]\n",
      "100%|████████████████████████████████████████████████████████████████████████████████████| 1/1 [00:00<00:00,  1.99it/s]\n",
      "100%|████████████████████████████████████████████████████████████████████████████████████| 1/1 [00:01<00:00,  1.31s/it]\n",
      "100%|████████████████████████████████████████████████████████████████████████████████████| 1/1 [00:02<00:00,  2.91s/it]\n"
     ]
    }
   ],
   "source": [
    "# 1) Вариант 1 - Рассматривается процедура однокритериального поиска наилучшей модели по каждому в отдельности выходу,\n",
    "# поскольку НЕ все модели из ModelList могут обучаться в режиме множественности выходов (в силу их специфики), \n",
    "# что требует доп. обработки на уровне кода\n",
    "# 2) Для оценки производительности используется классический progressbar (вопросы повышения произв. модели, \n",
    "# как и её более точной настройки - отдельное исследование)\n",
    "Y_cons = DataFrame()\n",
    "TstModels = DataFrame() # Создание датафрейма для временного хранения структуры результатов (в виде табл) \n",
    "tmp = {} # Словарь используемых моделей: полного (с вх. параметрами) и краткого наименований\n",
    "\n",
    "for m_i in (ModelList): # Проход по каждой модели\n",
    "    \n",
    "    m_str = str(m_i) # model name\n",
    "    tmp['m_i'] = m_str[:m_str.index('(')] # Добавл. эл-в в словарь и Вывод наименования модели (без отображения настроечных параметров)      \n",
    "    \n",
    "    for j in  trange(Ytrn.shape[1]): # Проход по каждому рез. признаку\n",
    "        #обучаем модель\n",
    "        YYtrn = np.asarray(Ytrn.T[j:j+1].T).ravel()\n",
    "        YYtst = np.asarray(Ytst.T[j:j+1].T).ravel()\n",
    "        mif = m_i.fit(Xtrn, YYtrn) # аппроксимация данных / обучение модели\n",
    "        mip = m_i.predict(Xtst)\n",
    "        # Расчет коэф.детерм. - R2 как критерия поиска наилучшего решения\n",
    "        tmp['R2_Y%s'%str(j+1)] = r2_score(YYtst, m_i.predict(Xtst))\n",
    "        \n",
    "        Y_cons = Y_cons.append([mip], ignore_index=True) # сохранение реультатов Y_i расчетов\n",
    "        \n",
    "    TstModels = TstModels.append([tmp])# Запись данных в датафрейм\n",
    "\n",
    "TstModels.set_index('m_i', inplace=True) # индексация моделей по наименованию\n"
   ]
  },
  {
   "cell_type": "code",
   "execution_count": 595,
   "metadata": {},
   "outputs": [
    {
     "data": {
      "text/html": [
       "<div>\n",
       "<style scoped>\n",
       "    .dataframe tbody tr th:only-of-type {\n",
       "        vertical-align: middle;\n",
       "    }\n",
       "\n",
       "    .dataframe tbody tr th {\n",
       "        vertical-align: top;\n",
       "    }\n",
       "\n",
       "    .dataframe thead th {\n",
       "        text-align: right;\n",
       "    }\n",
       "</style>\n",
       "<table border=\"1\" class=\"dataframe\">\n",
       "  <thead>\n",
       "    <tr style=\"text-align: right;\">\n",
       "      <th></th>\n",
       "      <th>R2_Y1</th>\n",
       "    </tr>\n",
       "    <tr>\n",
       "      <th>m_i</th>\n",
       "      <th></th>\n",
       "    </tr>\n",
       "  </thead>\n",
       "  <tbody>\n",
       "    <tr>\n",
       "      <th>LinearRegression</th>\n",
       "      <td>1.000000</td>\n",
       "    </tr>\n",
       "    <tr>\n",
       "      <th>KNeighborsRegressor</th>\n",
       "      <td>0.916157</td>\n",
       "    </tr>\n",
       "    <tr>\n",
       "      <th>RandomForestRegressor</th>\n",
       "      <td>0.996736</td>\n",
       "    </tr>\n",
       "    <tr>\n",
       "      <th>SVR</th>\n",
       "      <td>-0.031550</td>\n",
       "    </tr>\n",
       "  </tbody>\n",
       "</table>\n",
       "</div>"
      ],
      "text/plain": [
       "                          R2_Y1\n",
       "m_i                            \n",
       "LinearRegression       1.000000\n",
       "KNeighborsRegressor    0.916157\n",
       "RandomForestRegressor  0.996736\n",
       "SVR                   -0.031550"
      ]
     },
     "execution_count": 595,
     "metadata": {},
     "output_type": "execute_result"
    }
   ],
   "source": [
    "TstModels # Численные результаты поиска наилучшей модели"
   ]
  },
  {
   "cell_type": "code",
   "execution_count": 594,
   "metadata": {},
   "outputs": [
    {
     "data": {
      "text/plain": [
       "array([[5.09006725e-31],\n",
       "       [6.27921663e-03],\n",
       "       [2.44478409e-04],\n",
       "       [7.72553884e-02]])"
      ]
     },
     "execution_count": 594,
     "metadata": {},
     "output_type": "execute_result"
    }
   ],
   "source": [
    "# Дополнительный расчет регрессионной метрики - ошибки MSE (mean_squared_error)\n",
    "MSE = np.zeros([len(ModelList),Ytst.shape[1]])\n",
    "\n",
    "k = 0\n",
    "for i in range(len(ModelList)):\n",
    "    for j in range(Ytst.shape[1]):\n",
    "        y = (Ytst.T[j:j+1].T)\n",
    "        уm = Y_cons.T[k]\n",
    "        k += 1\n",
    "        MSE[i][j] = mt.mean_squared_error(y, уm) # Mean squared error regression loss\n",
    "MSE      "
   ]
  },
  {
   "cell_type": "code",
   "execution_count": 520,
   "metadata": {},
   "outputs": [],
   "source": [
    "# На основании анализа моделей по вых. результир. признаку Y (\"Удельные_потери\") \n",
    "# можно заключить, что модель № 1 и 3 наиболее точные (LinearRegression, RandomForestRegressor), что также подтверждается граф. анализом (см. ниже)\n",
    "# По производительности это также не худший вариант (см. прогрессбары)."
   ]
  },
  {
   "cell_type": "code",
   "execution_count": 531,
   "metadata": {},
   "outputs": [
    {
     "data": {
      "text/plain": [
       "RandomForestRegressor(max_features='sqrt')"
      ]
     },
     "execution_count": 531,
     "metadata": {},
     "output_type": "execute_result"
    }
   ],
   "source": [
    "# для модели № 3 RandomForestRegressor можно оценить значимость каждого фактора для результир. признаков:\n",
    "model3 = ModelList[2] # модель RandomForestRegressor\n",
    "model3.fit(Xtrn, Ytrn['Удельные_потери'].ravel())"
   ]
  },
  {
   "cell_type": "code",
   "execution_count": 532,
   "metadata": {
    "scrolled": true
   },
   "outputs": [
    {
     "data": {
      "text/plain": [
       "array([0.45336608, 0.14383669, 0.0218932 , 0.01820159, 0.04186799,\n",
       "       0.00372858, 0.035636  , 0.00903464, 0.0137488 , 0.06485665,\n",
       "       0.06652561, 0.00898217, 0.01754992, 0.01005836, 0.00241721,\n",
       "       0.00557696, 0.02376165, 0.02094263, 0.01759635, 0.02041893])"
      ]
     },
     "execution_count": 532,
     "metadata": {},
     "output_type": "execute_result"
    }
   ],
   "source": [
    "# X12, X31, X32, X52 (см. описание обозначений факторов выше)\n",
    "model3.feature_importances_"
   ]
  },
  {
   "cell_type": "markdown",
   "metadata": {},
   "source": [
    "## VII Базовый Graph-анализ результатов"
   ]
  },
  {
   "cell_type": "code",
   "execution_count": 553,
   "metadata": {},
   "outputs": [],
   "source": [
    "# Xtst[0:1]\n",
    "# Ytst[0:1]"
   ]
  },
  {
   "cell_type": "code",
   "execution_count": 593,
   "metadata": {},
   "outputs": [
    {
     "data": {
      "image/png": "[encoded data removed]",
      "text/plain": [
       "<Figure size 1080x360 with 1 Axes>"
      ]
     },
     "metadata": {
      "needs_background": "light"
     },
     "output_type": "display_data"
    },
    {
     "data": {
      "text/plain": [
       "<Figure size 432x288 with 0 Axes>"
      ]
     },
     "metadata": {},
     "output_type": "display_data"
    }
   ],
   "source": [
    "# Graph 1 ***** ***** ***** ***** ***** ***** ***** \n",
    "# Анализ моделей в разрезе показтеля R2 \n",
    "# Лучшим вариантом является модель № 1 и 3 (LR & RF), так как оцениваем изменение коэф. детерминации в пределах [0;1],\n",
    "# несмотря на большие числа значения R2_Y1 для модели SVR\n",
    "fig, axes = plt.subplots(ncols=1, figsize=(15,5))\n",
    "TstModels.R2_Y1.plot(ax=axes, kind='bar', title='R2_Y1')\n",
    "plt.show()\n",
    "plt.clf()"
   ]
  },
  {
   "cell_type": "code",
   "execution_count": 555,
   "metadata": {},
   "outputs": [
    {
     "data": {
      "text/html": [
       "<div>\n",
       "<style scoped>\n",
       "    .dataframe tbody tr th:only-of-type {\n",
       "        vertical-align: middle;\n",
       "    }\n",
       "\n",
       "    .dataframe tbody tr th {\n",
       "        vertical-align: top;\n",
       "    }\n",
       "\n",
       "    .dataframe thead th {\n",
       "        text-align: right;\n",
       "    }\n",
       "</style>\n",
       "<table border=\"1\" class=\"dataframe\">\n",
       "  <thead>\n",
       "    <tr style=\"text-align: right;\">\n",
       "      <th></th>\n",
       "      <th>R2_Y1</th>\n",
       "    </tr>\n",
       "    <tr>\n",
       "      <th>m_i</th>\n",
       "      <th></th>\n",
       "    </tr>\n",
       "  </thead>\n",
       "  <tbody>\n",
       "    <tr>\n",
       "      <th>LinearRegression</th>\n",
       "      <td>1.000000</td>\n",
       "    </tr>\n",
       "    <tr>\n",
       "      <th>KNeighborsRegressor</th>\n",
       "      <td>0.916157</td>\n",
       "    </tr>\n",
       "    <tr>\n",
       "      <th>RandomForestRegressor</th>\n",
       "      <td>0.996736</td>\n",
       "    </tr>\n",
       "    <tr>\n",
       "      <th>SVR</th>\n",
       "      <td>-0.031550</td>\n",
       "    </tr>\n",
       "  </tbody>\n",
       "</table>\n",
       "</div>"
      ],
      "text/plain": [
       "                          R2_Y1\n",
       "m_i                            \n",
       "LinearRegression       1.000000\n",
       "KNeighborsRegressor    0.916157\n",
       "RandomForestRegressor  0.996736\n",
       "SVR                   -0.031550"
      ]
     },
     "execution_count": 555,
     "metadata": {},
     "output_type": "execute_result"
    }
   ],
   "source": [
    "# Числовое представление для Graph 1\n",
    "dfR2 = pd.DataFrame(TstModels.R2_Y1) \n",
    "dfR2"
   ]
  },
  {
   "cell_type": "code",
   "execution_count": 556,
   "metadata": {},
   "outputs": [],
   "source": [
    "# Формирование списка графиков для анализа Graph 2\n",
    "ax_dict = {}\n",
    "for j in range(len(ModelList)*Ytst.shape[1]): # кол-во моделей x количество выходов\n",
    "    axi = 'ax%d' % (j+1)\n",
    "    ax_dict[j] = str(axi)"
   ]
  },
  {
   "cell_type": "code",
   "execution_count": 592,
   "metadata": {},
   "outputs": [
    {
     "name": "stderr",
     "output_type": "stream",
     "text": [
      "100%|███████████████████████████████████████████████████████████████████████████████████| 4/4 [00:00<00:00, 174.21it/s]\n"
     ]
    },
    {
     "data": {
      "image/png": "[encoded data removed]",
      "text/plain": [
       "<Figure size 1080x1080 with 4 Axes>"
      ]
     },
     "metadata": {
      "needs_background": "light"
     },
     "output_type": "display_data"
    },
    {
     "name": "stdout",
     "output_type": "stream",
     "text": [
      "Graph building 0.3360004425048828  sec\n"
     ]
    },
    {
     "data": {
      "text/plain": [
       "<Figure size 432x288 with 0 Axes>"
      ]
     },
     "metadata": {},
     "output_type": "display_data"
    }
   ],
   "source": [
    "# Graph 2 ***** ***** ***** ***** ***** ***** ***** \n",
    "# \n",
    "# Ytst = np.asarray(Ytst.T[j:j+1].T).ravel()\n",
    "# Xtst \n",
    "\n",
    "# fig, ax = plt.subplots(figsize=(5, 3))\n",
    "import numpy as np\n",
    "import matplotlib.pyplot as plt\n",
    "#Ytst.shape[1]\n",
    "fig, (axes) = plt.subplots(\n",
    "    nrows=len(ModelList), ncols=Ytst.shape[1],\n",
    "#     sharex = True, sharey = True,\n",
    "    figsize=(15, 15)\n",
    "    )\n",
    "\n",
    "ax_dict  = axes.flatten()\n",
    "p_color = ['#1e90ff', '#ffa500', '#32cd32', '#ff4500']\n",
    "\n",
    "k=0 # коэф. итератора для влож объектов fig - axes\n",
    "for i in trange(len(ModelList)):\n",
    "    for j in range(Ytst.shape[1]):\n",
    "        # постувеличение коэф. итератора\n",
    "        ax = ax_dict[k]\n",
    "        plt.grid(True, color='w', linestyle='-', linewidth=2)\n",
    "        \n",
    "#         уm = model3.predict(Xtst).T[j:j+1].T\n",
    "\n",
    "        y = (Ytst.T[j:j+1].T)\n",
    "        уm = Y_cons.T[k]\n",
    "        \n",
    "#         ax.scatter(y, уm, marker='o', c='r', edgecolor='b', lw=3) #marker='o', c='r', edgecolor='b' marker='o', c='r', edgecolor='b')\n",
    "    #     ax.scatter(y, KNRpred1, edgecolors=(0, 0, 0))\n",
    "    \n",
    "        ax.set_title('Model %d - %d' % ((i+1), (j+1)))\n",
    "        ax.plot([y.min(), y.max()], [y.min(), y.max()], 'k--', lw=4)\n",
    "        ax.plot(y, уm, 'bo', c=str(p_color[i]), lw=4)\n",
    "        k += 1 \n",
    "        ax.plot([y.min(), y.max()], [y.min(), y.max()], 'k--') # , lw=4\n",
    "#         ax.legend(loc='upper left')\n",
    "        handles, labels = ax.get_legend_handles_labels()\n",
    "        ax.legend(handles, labels, loc='upper left')\n",
    "        \n",
    "ax.set_xlabel('Measured - X')\n",
    "ax.set_ylabel('Predicted - Y')\n",
    "\n",
    "        \n",
    "start_time = t.time()\n",
    "plt.show()\n",
    "print(\"Graph building\", t.time() - start_time, \" sec\")\n",
    "plt.clf()\n"
   ]
  },
  {
   "cell_type": "code",
   "execution_count": 105,
   "metadata": {},
   "outputs": [],
   "source": [
    "# Из графиков выше видно, что разброс данных относительно идеального варианта (пунктирная линия) \n",
    "# меньше для модели № 1 и 3 (синий и зеленый цвет точек), что подтверждает выдвинутую ранее гипотезу"
   ]
  }
 ],
 "metadata": {
  "kernelspec": {
   "display_name": "Python 3",
   "language": "python",
   "name": "python3"
  },
  "language_info": {
   "codemirror_mode": {
    "name": "ipython",
    "version": 3
   },
   "file_extension": ".py",
   "mimetype": "text/x-python",
   "name": "python",
   "nbconvert_exporter": "python",
   "pygments_lexer": "ipython3",
   "version": "3.7.5"
  }
 },
 "nbformat": 4,
 "nbformat_minor": 4
}
